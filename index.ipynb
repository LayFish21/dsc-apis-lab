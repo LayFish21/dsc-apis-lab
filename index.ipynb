{
 "cells": [
  {
   "cell_type": "markdown",
   "metadata": {},
   "source": [
    "# APIs - Cumulative Lab\n",
    "\n",
    "\n",
    "## Introduction \n",
    "\n",
    "We've seen how the Yelp API works and how to create basic visualizations using Folium. It's time to put those skills to work in order to create a working map! Taking things a step further, you'll also independently explore how to perform pagination in order to retrieve a full results set from the Yelp API.\n",
    "\n",
    "## Objectives\n",
    "\n",
    "You will be able to: \n",
    "\n",
    "* Practice using functions to organize your code\n",
    "* Use pagination to retrieve all results from an API query\n",
    "* Practice parsing data returned from an API query\n",
    "* Practice interpreting visualizations of a dataset\n",
    "* Create maps using Folium"
   ]
  },
  {
   "cell_type": "markdown",
   "metadata": {},
   "source": [
    "## Your Task: Query Yelp for All Businesses in a Category and Analyze the Results\n",
    "\n",
    "![restaurant counter with pizza](images/restaurant_counter.jpg)\n",
    "\n",
    "Photo by <a href=\"https://unsplash.com/@jordanmadrid?utm_source=unsplash&utm_medium=referral&utm_content=creditCopyText\">Jordan Madrid</a> on <a href=\"/s/photos/pizza-restaurant?utm_source=unsplash&utm_medium=referral&utm_content=creditCopyText\">Unsplash</a>"
   ]
  },
  {
   "cell_type": "markdown",
   "metadata": {},
   "source": [
    "### Overview\n",
    "\n",
    "You've now worked with some API calls, but we have yet to see how to retrieve a more complete dataset in a programmatic manner. In this lab, you will write a query of businesses on Yelp, then use *pagination* to retrieve all possible results for that query. Then you will create a summary of your findings, including a Folium map of the geographic locations of those businesses.\n",
    "\n",
    "### Technical Details\n",
    "\n",
    "Returning to the Yelp API, the [documentation](https://www.yelp.com/developers/documentation/v3/business_search) also provides us details regarding the **API limits**. These often include details about the number of requests a user is allowed to make within a specified time limit and the maximum number of results to be returned. In this case, we are told that any request has a **maximum of 50 results per request** and defaults to 20. Furthermore, any search will be limited to a **total of 1000 results**. To retrieve all 1000 of these results, we would have to page through the results piece by piece, retrieving 50 at a time. Processes such as these are often referred to as pagination.\n",
    "\n",
    "Also, be mindful of the **API** ***rate*** **limits**. You can only make **5000 requests per day** and are also can make requests too fast. Start prototyping small before running a loop that could be faulty. You can also use `time.sleep(n)` to add delays. For more details see https://www.yelp.com/developers/documentation/v3/rate_limiting.\n",
    "\n",
    "In this lab, you will define a search and then paginate over the results to retrieve all of the results. You'll then parse these responses as a list of dictionaries (for further exploration) and create a map using Folium to visualize the results geographically.\n",
    "\n",
    "### Requirements\n",
    "\n",
    "#### 1. Make the Initial Request\n",
    "\n",
    "Start by filling in your API key to make the initial request to the business search API. Investigate the structure of the response you get back and start figuring out how you will extract the relevant information.\n",
    "\n",
    "#### 2. Add Pagination\n",
    "\n",
    "Using loops and functions, collect the maximum number of results for your query from the API.\n",
    "\n",
    "#### 3. Perform Exploratory Analysis\n",
    "\n",
    "Interpret visualizations related to the price range, average rating, and number of reviews for all query results.\n",
    "\n",
    "#### 4. Create a Folium Map\n",
    "\n",
    "Using latitude and longitude data, plot the query results on an interactive map."
   ]
  },
  {
   "cell_type": "markdown",
   "metadata": {},
   "source": [
    "## 1. Make the Initial Request\n",
    "\n",
    "### Querying\n",
    "\n",
    "Start by making an initial request to the Yelp API. Your search must include at least 2 parameters: **term** and **location**. For example, you might search for pizza restaurants in NYC. The term and location is up to you but make the request below.\n",
    "\n",
    "Use the `requests` library ([documentation here](https://requests.readthedocs.io/en/master/user/quickstart/#make-a-request)).\n",
    "\n",
    "You'll also need an API key from Yelp. If you haven't done this already, go to the Yelp [Manage App page](https://www.yelp.com/developers/v3/manage_app) and create a new app (after making an account if you haven't already)."
   ]
  },
  {
   "cell_type": "code",
   "execution_count": 1,
   "metadata": {},
   "outputs": [
    {
     "data": {
      "text/plain": [
       "<Response [200]>"
      ]
     },
     "execution_count": 1,
     "metadata": {},
     "output_type": "execute_result"
    }
   ],
   "source": [
    "# Replace None with appropriate code\n",
    "\n",
    "# Import the requests library\n",
    "import requests\n",
    "\n",
    "# Get this from the \"Manage App\" page. Make sure you set them\n",
    "# back to None before pushing this to GitHub, since otherwise\n",
    "# your credentials will be compromised\n",
    "api_key = \"ZK-hXvC1fHnv3Vl9oa96ZHxZmQfhfKZWyQEW80JikJG9N71G7y4uXjqb2ckP3wYHuEcV8rdvU7qJctrECWRFdAo8yaaQK9PIWjUjATpMnFmIJEMHN6-u7ji4XvOyY3Yx\"\n",
    "\n",
    "# These can be whatever you want! But the solution uses \"pizza\"\n",
    "# and \"New York NY\" if you want to compare your work directly\n",
    "term = 'pizza'\n",
    "location = 'New York NY'\n",
    "\n",
    "# Set up params for request\n",
    "url = \"https://api.yelp.com/v3/businesses/search\"\n",
    "headers = {\n",
    "    \"Authorization\": \"Bearer {}\".format(api_key)\n",
    "}\n",
    "url_params = {\n",
    "    \"term\": term.replace(\" \", \"+\"),\n",
    "    \"location\": location.replace(\" \", \"+\")\n",
    "}\n",
    "\n",
    "# Make the request using requests.get, passing in\n",
    "# url, headers=headers, and params=url_params\n",
    "response = requests.get(url, headers=headers, params=url_params)\n",
    "\n",
    "# Confirm we got a 200 response\n",
    "response"
   ]
  },
  {
   "cell_type": "code",
   "execution_count": 2,
   "metadata": {},
   "outputs": [
    {
     "data": {
      "text/plain": [
       "dict_keys(['businesses', 'total', 'region'])"
      ]
     },
     "execution_count": 2,
     "metadata": {},
     "output_type": "execute_result"
    }
   ],
   "source": [
    "# Run this cell without changes\n",
    "\n",
    "# Get the response body in JSON format\n",
    "response_json = response.json()\n",
    "# View the keys\n",
    "response_json.keys()"
   ]
  },
  {
   "cell_type": "markdown",
   "metadata": {},
   "source": [
    "### Extracting Data\n",
    "\n",
    "Now, retrieve the value associated with the `'businesses'` key, and inspect its contents."
   ]
  },
  {
   "cell_type": "code",
   "execution_count": 3,
   "metadata": {},
   "outputs": [
    {
     "data": {
      "text/plain": [
       "[{'id': 'zj8Lq1T8KIC5zwFief15jg',\n",
       "  'alias': 'prince-street-pizza-new-york-2',\n",
       "  'name': 'Prince Street Pizza',\n",
       "  'image_url': 'https://s3-media2.fl.yelpcdn.com/bphoto/I4gm7i1zoamgAk1hmOKbKw/o.jpg',\n",
       "  'is_closed': False,\n",
       "  'url': 'https://www.yelp.com/biz/prince-street-pizza-new-york-2?adjust_creative=qzAqeN21RWCCiIUigwma2w&utm_campaign=yelp_api_v3&utm_medium=api_v3_business_search&utm_source=qzAqeN21RWCCiIUigwma2w',\n",
       "  'review_count': 4691,\n",
       "  'categories': [{'alias': 'pizza', 'title': 'Pizza'},\n",
       "   {'alias': 'italian', 'title': 'Italian'}],\n",
       "  'rating': 4.5,\n",
       "  'coordinates': {'latitude': 40.72308755605564,\n",
       "   'longitude': -73.99453001177575},\n",
       "  'transactions': ['delivery', 'pickup'],\n",
       "  'price': '$',\n",
       "  'location': {'address1': '27 Prince St',\n",
       "   'address2': None,\n",
       "   'address3': '',\n",
       "   'city': 'New York',\n",
       "   'zip_code': '10012',\n",
       "   'country': 'US',\n",
       "   'state': 'NY',\n",
       "   'display_address': ['27 Prince St', 'New York, NY 10012']},\n",
       "  'phone': '+12129664100',\n",
       "  'display_phone': '(212) 966-4100',\n",
       "  'distance': 1961.8771417367063},\n",
       " {'id': 'ysqgdbSrezXgVwER2kQWKA',\n",
       "  'alias': 'julianas-brooklyn-3',\n",
       "  'name': \"Juliana's\",\n",
       "  'image_url': 'https://s3-media2.fl.yelpcdn.com/bphoto/NVoLFle5H-SHNN6piAKIYw/o.jpg',\n",
       "  'is_closed': False,\n",
       "  'url': 'https://www.yelp.com/biz/julianas-brooklyn-3?adjust_creative=qzAqeN21RWCCiIUigwma2w&utm_campaign=yelp_api_v3&utm_medium=api_v3_business_search&utm_source=qzAqeN21RWCCiIUigwma2w',\n",
       "  'review_count': 2590,\n",
       "  'categories': [{'alias': 'pizza', 'title': 'Pizza'}],\n",
       "  'rating': 4.5,\n",
       "  'coordinates': {'latitude': 40.70274718768062,\n",
       "   'longitude': -73.99343490196397},\n",
       "  'transactions': ['delivery'],\n",
       "  'price': '$$',\n",
       "  'location': {'address1': '19 Old Fulton St',\n",
       "   'address2': '',\n",
       "   'address3': '',\n",
       "   'city': 'Brooklyn',\n",
       "   'zip_code': '11201',\n",
       "   'country': 'US',\n",
       "   'state': 'NY',\n",
       "   'display_address': ['19 Old Fulton St', 'Brooklyn, NY 11201']},\n",
       "  'phone': '+17185966700',\n",
       "  'display_phone': '(718) 596-6700',\n",
       "  'distance': 308.56984360837544}]"
      ]
     },
     "execution_count": 3,
     "metadata": {},
     "output_type": "execute_result"
    }
   ],
   "source": [
    "# Replace None with appropriate code\n",
    "\n",
    "# Retrieve the value from response_json\n",
    "businesses = response.json()['businesses']\n",
    "\n",
    "# View the first 2 records\n",
    "businesses[:2]"
   ]
  },
  {
   "cell_type": "markdown",
   "metadata": {},
   "source": [
    "### Preparing Data\n",
    "\n",
    "Write a function `prepare_data` that takes in a list of dictionaries like `businesses` and returns a copy that has been prepared for analysis:\n",
    "\n",
    "1. The `coordinates` key-value pair has been converted into two separate key-value pairs, `latitude` and `longitude`\n",
    "2. All other key-value pairs except for `name`, `review_count`, `rating`, and `price` have been dropped\n",
    "3. All dictionaries missing one of the relevant keys or containing null values have been dropped\n",
    "\n",
    "In other words, the final keys for each dictionary should be `name`, `review_count`, `rating`, `price`, `latitude`, and `longitude`.\n",
    "\n",
    "Complete the function in the cell below:"
   ]
  },
  {
   "cell_type": "code",
   "execution_count": null,
   "metadata": {},
   "outputs": [],
   "source": []
  },
  {
   "cell_type": "code",
   "execution_count": 4,
   "metadata": {},
   "outputs": [
    {
     "data": {
      "text/plain": [
       "[{'name': 'Prince Street Pizza',\n",
       "  'review_count': 4691,\n",
       "  'rating': 4.5,\n",
       "  'price': '$',\n",
       "  'latitude': 40.72308755605564,\n",
       "  'longitude': -73.99453001177575},\n",
       " {'name': \"Juliana's\",\n",
       "  'review_count': 2590,\n",
       "  'rating': 4.5,\n",
       "  'price': '$$',\n",
       "  'latitude': 40.70274718768062,\n",
       "  'longitude': -73.99343490196397},\n",
       " {'name': 'Rubirosa',\n",
       "  'review_count': 2864,\n",
       "  'rating': 4.5,\n",
       "  'price': '$$',\n",
       "  'latitude': 40.722766,\n",
       "  'longitude': -73.996233},\n",
       " {'name': \"L'industrie Pizzeria\",\n",
       "  'review_count': 840,\n",
       "  'rating': 4.5,\n",
       "  'price': '$',\n",
       "  'latitude': 40.71162,\n",
       "  'longitude': -73.95783},\n",
       " {'name': \"Lombardi's Pizza\",\n",
       "  'review_count': 6509,\n",
       "  'rating': 4.0,\n",
       "  'price': '$$',\n",
       "  'latitude': 40.7215934960083,\n",
       "  'longitude': -73.9955956044561}]"
      ]
     },
     "execution_count": 4,
     "metadata": {},
     "output_type": "execute_result"
    }
   ],
   "source": [
    "# Replace None with appropriate code\n",
    "\n",
    "def prepare_data(data_list):\n",
    "    \"\"\"\n",
    "    This function takes in a list of dictionaries and prepares it\n",
    "    for analysis\n",
    "    \"\"\"\n",
    "\n",
    "    \n",
    "    # Make a new list to hold results\n",
    "    results = []\n",
    "    \n",
    "    for business_data in data_list:\n",
    "    \n",
    "        # Make a new dictionary to hold prepared data for this business\n",
    "        prepared_data = {}\n",
    "        \n",
    "        # Extract name, review_count, rating, and price key-value pairs\n",
    "        # from business_data and add to prepared_data\n",
    "        # If a key is not present in business_data, add it to prepared_data\n",
    "        # with an associated value of None\n",
    "        for key in ('name','review_count', 'rating', 'price'):\n",
    "            prepared_data[key]= business_data.get(key, None)\n",
    "    \n",
    "        # Parse and add latitude and longitude columns\n",
    "        coordinates = business_data['coordinates']\n",
    "        lat = coordinates['latitude']\n",
    "        long = coordinates['longitude']\n",
    "        prepared_data['latitude'] = lat\n",
    "        prepared_data['longitude'] = long\n",
    "        \n",
    "        # Add to list if all values are present\n",
    "        if all(prepared_data.values()):\n",
    "            results.append(prepared_data)\n",
    "    \n",
    "    return results\n",
    "    \n",
    "# Test out function\n",
    "prepared_businesses = prepare_data(businesses)\n",
    "prepared_businesses[:5]"
   ]
  },
  {
   "cell_type": "markdown",
   "metadata": {},
   "source": [
    "Check that your function created the correct keys:"
   ]
  },
  {
   "cell_type": "code",
   "execution_count": 5,
   "metadata": {},
   "outputs": [],
   "source": [
    "# Run this cell without changes\n",
    "\n",
    "assert sorted(list(prepared_businesses[0].keys())) == ['latitude', 'longitude', 'name', 'price', 'rating', 'review_count']"
   ]
  },
  {
   "cell_type": "markdown",
   "metadata": {},
   "source": [
    "The following code will differ depending on your query, but we expect there to be 20 businesses in the original list, and potentially fewer in the prepared list (if any of them were missing data):"
   ]
  },
  {
   "cell_type": "code",
   "execution_count": 6,
   "metadata": {},
   "outputs": [
    {
     "name": "stdout",
     "output_type": "stream",
     "text": [
      "Original: 20\n",
      "Prepared: 20\n"
     ]
    }
   ],
   "source": [
    "# Run this cell without changes\n",
    "print(\"Original:\", len(businesses))\n",
    "print(\"Prepared:\", len(prepared_businesses))"
   ]
  },
  {
   "cell_type": "markdown",
   "metadata": {},
   "source": [
    "Great! We will reuse this function once we have retrieved the full dataset."
   ]
  },
  {
   "cell_type": "markdown",
   "metadata": {},
   "source": [
    "## 2. Add Pagination\n",
    "\n",
    "Now that you are able to extract information from one page of the response, let's figure out how to request as many pages as possible.\n",
    "\n",
    "### Determining the Total\n",
    "\n",
    "Depending on the number of total results for your query, you will either retrieve all of the results, or just the first 1000 (if there are more than 1000 total).\n",
    "\n",
    "We can find the total number of results using the `\"total\"` key:"
   ]
  },
  {
   "cell_type": "code",
   "execution_count": 7,
   "metadata": {},
   "outputs": [
    {
     "data": {
      "text/plain": [
       "12300"
      ]
     },
     "execution_count": 7,
     "metadata": {},
     "output_type": "execute_result"
    }
   ],
   "source": [
    "# Run this cell without changes\n",
    "response_json[\"total\"]"
   ]
  },
  {
   "cell_type": "markdown",
   "metadata": {},
   "source": [
    "(This is specific to the implementation of the Yelp API. Some APIs will just tell you that there are more pages, or will tell you the number of pages total, rather than the total number of results. If you're not sure, always check the documentation.)\n",
    "\n",
    "In the cell below, assign the variable `total` to either the value shown above (if it is less than 1000), or 1000."
   ]
  },
  {
   "cell_type": "code",
   "execution_count": 8,
   "metadata": {},
   "outputs": [],
   "source": [
    "# Replace None with appropriate code\n",
    "total = 1000"
   ]
  },
  {
   "cell_type": "markdown",
   "metadata": {},
   "source": [
    "### Calculating the Offsets\n",
    "\n",
    "The documentation states in the parameters section:\n",
    "\n",
    "> **Name**: `limit`, **Type:** int, **Description:** Optional. Number of business results to return. By default, it will return 20. Maximum is 50.\n",
    "\n",
    "> **Name**: `offset`, **Type:** int, **Description:** Optional. Offset the list of returned business results by this amount.\n",
    "\n",
    "So, to get the most results with the fewest API calls we want to set a limit of 50 every time. If, say, we wanted to get 210 total results, that would mean:\n",
    "\n",
    "1. Offset of `0` (first 50 records)\n",
    "2. Offset of `50` (second 50 records)\n",
    "3. Offset of `100` (third 50 records)\n",
    "4. Offset of `150` (fourth 50 records)\n",
    "5. Offset of `200` (final 10 records)\n",
    "\n",
    "In the cell below, create a function `get_offsets` that takes in a total and returns a list of offsets for that total. You can assume that there is a limit of 50 every time.\n",
    "\n",
    "*Hint: you can use `range` ([documentation here](https://docs.python.org/3.3/library/stdtypes.html?highlight=range#range)) to do this in one line of code. Just make the returned result is a list.*"
   ]
  },
  {
   "cell_type": "code",
   "execution_count": 9,
   "metadata": {},
   "outputs": [
    {
     "data": {
      "text/plain": [
       "[0,\n",
       " 50,\n",
       " 100,\n",
       " 150,\n",
       " 200,\n",
       " 250,\n",
       " 300,\n",
       " 350,\n",
       " 400,\n",
       " 450,\n",
       " 500,\n",
       " 550,\n",
       " 600,\n",
       " 650,\n",
       " 700,\n",
       " 750,\n",
       " 800,\n",
       " 850,\n",
       " 900,\n",
       " 950]"
      ]
     },
     "execution_count": 9,
     "metadata": {},
     "output_type": "execute_result"
    }
   ],
   "source": [
    "# Replace None with appropriate code\n",
    "def get_offsets(total):\n",
    "    \"\"\"\n",
    "    Get a list of offsets needed to get all pages\n",
    "    of data up until the total\n",
    "    \"\"\"\n",
    "    list_offsets = list((range(0, total, 50)))\n",
    "    return list_offsets\n",
    "  \n",
    " \n",
    "    \n",
    "        \n",
    "get_offsets(1000)\n"
   ]
  },
  {
   "cell_type": "markdown",
   "metadata": {},
   "source": [
    "Check that your function works below:"
   ]
  },
  {
   "cell_type": "code",
   "execution_count": 10,
   "metadata": {},
   "outputs": [],
   "source": [
    "# Run this cell without changes\n",
    "\n",
    "assert get_offsets(200) == [0, 50, 100, 150]\n",
    "assert get_offsets(210) == [0, 50, 100, 150, 200]"
   ]
  },
  {
   "cell_type": "markdown",
   "metadata": {},
   "source": [
    "### Putting It All Together\n",
    "\n",
    "Recall that the following variable has already been declared for you:"
   ]
  },
  {
   "cell_type": "code",
   "execution_count": 11,
   "metadata": {},
   "outputs": [
    {
     "data": {
      "text/plain": [
       "{'term': 'pizza', 'location': 'New+York+NY'}"
      ]
     },
     "execution_count": 11,
     "metadata": {},
     "output_type": "execute_result"
    }
   ],
   "source": [
    "# Run this cell without changes\n",
    "url_params"
   ]
  },
  {
   "cell_type": "markdown",
   "metadata": {},
   "source": [
    "We'll go ahead and also specify that the limit should be 50 every time:"
   ]
  },
  {
   "cell_type": "code",
   "execution_count": 12,
   "metadata": {},
   "outputs": [],
   "source": [
    "# Run this cell without changes\n",
    "url_params[\"limit\"] = 50"
   ]
  },
  {
   "cell_type": "markdown",
   "metadata": {},
   "source": [
    "In order to modify the offset, you'll need to add it to `url_params` with the key `\"offset\"` and whatever value is needed.\n",
    "\n",
    "In the cell below, write code that:\n",
    "\n",
    "* Creates an empty list for the full prepared dataset\n",
    "* Loops over all of the offsets from `get_offsets` and makes an API call each time with the specified offset\n",
    "* Calls `prepare_data` to get a cleaned version of the result of each API call\n",
    "* Extends the full prepared dataset list with each query's prepared dataset"
   ]
  },
  {
   "cell_type": "code",
   "execution_count": 14,
   "metadata": {},
   "outputs": [
    {
     "data": {
      "text/plain": [
       "755"
      ]
     },
     "execution_count": 14,
     "metadata": {},
     "output_type": "execute_result"
    }
   ],
   "source": [
    "# Replace None with appropriate code\n",
    "\n",
    "# Create an empty list for the full prepared dataset\n",
    "full_dataset = []\n",
    "\n",
    "for offset in get_offsets(total):\n",
    "    # Add or update the \"offset\" key-value pair in url_params\n",
    "    url_params['offset'] = offset\n",
    "    \n",
    "    # Make the query and get the response\n",
    "    response = requests.get(url, headers=headers, params=url_params)\n",
    "    \n",
    "    # Get the response body in JSON format\n",
    "    response_json = response.json()\n",
    "    \n",
    "    # Get the list of businesses from the response_json\n",
    "    businesses = response_json['businesses']\n",
    "    \n",
    "    # Call the prepare_data function to get a list of processed data\n",
    "    prepared_businesses = prepare_data(businesses)\n",
    "    \n",
    "    # Extend full_dataset with this list (don't append, or you'll get\n",
    "    # a list of lists instead of a flat list)\n",
    "    full_dataset.extend(prepared_businesses)\n",
    "\n",
    "# Check the length of the full dataset. It will be up to `total`,\n",
    "# potentially less if there were missing values\n",
    "len(full_dataset)"
   ]
  },
  {
   "cell_type": "markdown",
   "metadata": {},
   "source": [
    "This code may take up to a few minutes to run.\n",
    "\n",
    "If you get an error trying to get the response body in JSON format, try adding `time.sleep(1)` right after the `requests.get` line, so your code will sleep for 1 second between each API call."
   ]
  },
  {
   "cell_type": "markdown",
   "metadata": {},
   "source": [
    "## 3. Perform Exploratory Analysis\n",
    "\n",
    "Take the businesses from the previous question and do an initial exploratory analysis. We have provided some plots for you to interpret:"
   ]
  },
  {
   "cell_type": "code",
   "execution_count": 15,
   "metadata": {},
   "outputs": [
    {
     "data": {
      "image/png": "[encoded data removed]",
      "text/plain": [
       "<Figure size 1152x360 with 3 Axes>"
      ]
     },
     "metadata": {
      "needs_background": "light"
     },
     "output_type": "display_data"
    }
   ],
   "source": [
    "# Run this cell without changes\n",
    "from collections import Counter\n",
    "import matplotlib.pyplot as plt\n",
    "%matplotlib inline\n",
    "\n",
    "fig, (ax1, ax2, ax3) = plt.subplots(ncols=3, figsize=(16, 5))\n",
    "\n",
    "# Plot distribution of number of reviews\n",
    "all_review_counts = [x[\"review_count\"] for x in full_dataset]\n",
    "ax1.hist(all_review_counts)\n",
    "ax1.set_title(\"Review Count Distribution\")\n",
    "ax1.set_xlabel(\"Number of Reviews\")\n",
    "ax1.set_ylabel(\"Number of Businesses\")\n",
    "\n",
    "# Plot rating distribution\n",
    "all_ratings = [x[\"rating\"] for x in full_dataset]\n",
    "rating_counter = Counter(all_ratings)\n",
    "rating_keys = sorted(rating_counter.keys())\n",
    "ax2.bar(rating_keys, [rating_counter[key] for key in rating_keys])\n",
    "ax2.set_title(\"Rating Distribution\")\n",
    "ax2.set_xlabel(\"Rating\")\n",
    "ax2.set_ylabel(\"Number of Businesses\")\n",
    "\n",
    "# Plot price distribution\n",
    "all_prices = [x[\"price\"].replace(\"$\", r\"\\$\") for x in full_dataset]\n",
    "price_counter = Counter(all_prices)\n",
    "price_keys = sorted(price_counter.keys())\n",
    "ax3.bar(price_keys, [price_counter[key] for key in price_keys])\n",
    "ax3.set_title(\"Price Distribution\")\n",
    "ax3.set_xlabel(\"Price Category\")\n",
    "ax3.set_ylabel(\"Number of Businesses\");"
   ]
  },
  {
   "cell_type": "markdown",
   "metadata": {},
   "source": [
    "Describe the distributions displayed above and interpret them in the context of your query. (Your answer may differ from the solution branch depending on your query.)"
   ]
  },
  {
   "cell_type": "code",
   "execution_count": null,
   "metadata": {},
   "outputs": [],
   "source": [
    "# Replace None with appropriate text\n",
    "\"\"\"\n",
    "According to these graphs resulting from a query of 1000 pizza places in New York, the vast majority of places\n",
    "have less then 2,000 reviews total with at least one place having around 14,000 reviews, scewing the scale of the graph.\n",
    "Of the 755 places represented in these results there was a fairly normal distribution of ratings with somewhere \n",
    "around 4 stars being the most frequent rating and no ratings present less than 2 stars. Lastly it can be seen that the\n",
    "vast majority of pizza places in New York are on the cheaper end with price ratings of either one or two '$' meaning\n",
    "less expensive, there are a few very expensive pizza places but far more moderately priced, '$$$', or considered cheap,\n",
    "'$' or '$$'.\n",
    "\n",
    "\"\"\""
   ]
  },
  {
   "cell_type": "markdown",
   "metadata": {},
   "source": [
    "In the cell below, we also plot the rating distributions by price. In this setup, a price of one dollar sign is \"lower price\" and everything else is \"higher price\"."
   ]
  },
  {
   "cell_type": "code",
   "execution_count": 16,
   "metadata": {},
   "outputs": [
    {
     "data": {
      "image/png": "[encoded data removed]",
      "text/plain": [
       "<Figure size 432x288 with 1 Axes>"
      ]
     },
     "metadata": {
      "needs_background": "light"
     },
     "output_type": "display_data"
    }
   ],
   "source": [
    "# Run this cell without changes\n",
    "\n",
    "higher_price = []\n",
    "lower_price = []\n",
    "for row in full_dataset:\n",
    "    if row[\"price\"] == \"$\":\n",
    "        lower_price.append(row[\"rating\"])\n",
    "    else:\n",
    "        higher_price.append(row[\"rating\"])\n",
    "        \n",
    "fig, ax = plt.subplots()\n",
    "\n",
    "ax.hist([higher_price, lower_price], label=[\"higher price\", \"lower price\"], density=True)\n",
    "\n",
    "ax.legend();"
   ]
  },
  {
   "cell_type": "markdown",
   "metadata": {},
   "source": [
    "Is a higher price associated with a higher rating? (No need for any additional math/statistics, just interpret what you see in the plot.)"
   ]
  },
  {
   "cell_type": "code",
   "execution_count": null,
   "metadata": {},
   "outputs": [],
   "source": [
    "# Replace None with appropriate text\n",
    "\"\"\"\n",
    "According to the data visualization seen above, lower priced places tend to have lower ratings overall, \n",
    "with much fewer high priced places scoring below 3.5 stars when compared with lower price places. \n",
    "\n",
    "We can also see that high priced places tend to get higher ratings due to the scewed nature of the data of high priced \n",
    "places scoring more often in the 4 stars or above range while with the lower priced places the rating has a more normal\n",
    "looking distribtuion with its peak around 4 stars.\n",
    "\"\"\""
   ]
  },
  {
   "cell_type": "markdown",
   "metadata": {},
   "source": [
    "Finally, let's look at ratings vs. review counts:"
   ]
  },
  {
   "cell_type": "code",
   "execution_count": 17,
   "metadata": {},
   "outputs": [
    {
     "data": {
      "image/png": "[encoded data removed]",
      "text/plain": [
       "<Figure size 1152x360 with 1 Axes>"
      ]
     },
     "metadata": {
      "needs_background": "light"
     },
     "output_type": "display_data"
    }
   ],
   "source": [
    "# Run this cell without changes\n",
    "fig, ax = plt.subplots(figsize=(16,5))\n",
    "\n",
    "ax.scatter(all_review_counts, all_ratings, alpha=0.2)\n",
    "ax.set_xlabel(\"Number of Reviews\")\n",
    "ax.set_ylabel(\"Rating\")\n",
    "# \"zoom in\" to a subset of review counts\n",
    "ax.set_xlim(left=0, right=1000);"
   ]
  },
  {
   "cell_type": "markdown",
   "metadata": {},
   "source": [
    "Is a higher number of reviews associated with a higher rating?"
   ]
  },
  {
   "cell_type": "code",
   "execution_count": null,
   "metadata": {},
   "outputs": [],
   "source": [
    "# Replace None with appropriate text\n",
    "\"\"\"\n",
    "Based on the chart above alone I do not feel confident saying a definitive yes or no for the question at hand.\n",
    "\n",
    "What I can say is that the places on the ends of the ratings range tend to have fewer reviews while those closer\n",
    "to the center of the distribution have more reviews.\n",
    "\"\"\""
   ]
  },
  {
   "cell_type": "markdown",
   "metadata": {},
   "source": [
    "## 4. Create a Folium Map\n",
    "\n",
    "Make a map using Folium of the businesses you retrieved. Be sure to also add popups to the markers giving some basic information such as name, rating and price.\n",
    "\n",
    "You can center the map around the latitude and longitude of the first item in `full_dataset`."
   ]
  },
  {
   "cell_type": "code",
   "execution_count": 18,
   "metadata": {},
   "outputs": [
    {
     "data": {
      "text/plain": [
       "{'name': 'Prince Street Pizza',\n",
       " 'review_count': 4691,\n",
       " 'rating': 4.5,\n",
       " 'price': '$',\n",
       " 'latitude': 40.72308755605564,\n",
       " 'longitude': -73.99453001177575}"
      ]
     },
     "execution_count": 18,
     "metadata": {},
     "output_type": "execute_result"
    }
   ],
   "source": [
    "full_dataset[0]"
   ]
  },
  {
   "cell_type": "code",
   "execution_count": 19,
   "metadata": {},
   "outputs": [
    {
     "data": {
      "text/html": [
       "<div style=\"width:100%;\"><div style=\"position:relative;width:100%;height:0;padding-bottom:60%;\"><span style=\"color:#565656\">Make this Notebook Trusted to load map: File -> Trust Notebook</span><iframe src=\"about:blank\" style=\"position:absolute;width:100%;height:100%;left:0;top:0;border:none !important;\" data-html=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 onload=\"this.contentDocument.open();this.contentDocument.write(atob(this.getAttribute('data-html')));this.contentDocument.close();\" allowfullscreen webkitallowfullscreen mozallowfullscreen></iframe></div></div>"
      ],
      "text/plain": [
       "<folium.folium.Map at 0x7fa7806ece20>"
      ]
     },
     "execution_count": 19,
     "metadata": {},
     "output_type": "execute_result"
    }
   ],
   "source": [
    "# Replace None with appropriate code\n",
    "\n",
    "# Import the library\n",
    "import folium \n",
    "\n",
    "# Set up center latitude and longitude\n",
    "center_lat = full_dataset[0]['latitude']\n",
    "center_long = full_dataset[0]['longitude']\n",
    "\n",
    "# Initialize map with center lat and long\n",
    "yelp_map = folium.Map([center_lat, center_long], zoom_start = 13)\n",
    "\n",
    "# Adjust this limit to see more or fewer businesses\n",
    "limit=100\n",
    "\n",
    "for business in full_dataset[:limit]:\n",
    "    # Extract information about business\n",
    "    lat = business['latitude']\n",
    "    long = business['longitude']\n",
    "    name = business['name']\n",
    "    rating = business['rating']\n",
    "    price = business['price']\n",
    "    details = \"{}\\nPrice: {} Rating:{}\".format(name,price,rating)\n",
    "    \n",
    "    # Create popup with relevant details\n",
    "    popup_text = details\n",
    "    popup = folium.Popup(popup_text, parse_html=True)\n",
    "    \n",
    "    # Create marker with relevant lat/long and popup\n",
    "    marker = folium.Marker(location=[lat, long], popup = popup)\n",
    "    \n",
    "    marker.add_to(yelp_map)\n",
    "    \n",
    "yelp_map"
   ]
  },
  {
   "cell_type": "markdown",
   "metadata": {},
   "source": [
    "## Summary\n",
    "\n",
    "Nice work! In this lab, you've made multiple API calls to Yelp in order to paginate through a results set, performing some basic exploratory analysis and then creating a nice interactive map to display the results using Folium! Well done!"
   ]
  },
  {
   "cell_type": "code",
   "execution_count": null,
   "metadata": {},
   "outputs": [],
   "source": []
  },
  {
   "cell_type": "code",
   "execution_count": null,
   "metadata": {},
   "outputs": [],
   "source": []
  }
 ],
 "metadata": {
  "kernelspec": {
   "display_name": "Python 3",
   "language": "python",
   "name": "python3"
  },
  "language_info": {
   "codemirror_mode": {
    "name": "ipython",
    "version": 3
   },
   "file_extension": ".py",
   "mimetype": "text/x-python",
   "name": "python",
   "nbconvert_exporter": "python",
   "pygments_lexer": "ipython3",
   "version": "3.8.5"
  },
  "toc": {
   "base_numbering": 1,
   "nav_menu": {},
   "number_sections": true,
   "sideBar": true,
   "skip_h1_title": false,
   "title_cell": "Table of Contents",
   "title_sidebar": "Contents",
   "toc_cell": false,
   "toc_position": {},
   "toc_section_display": true,
   "toc_window_display": false
  }
 },
 "nbformat": 4,
 "nbformat_minor": 2
}
